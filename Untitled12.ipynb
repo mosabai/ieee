{
  "nbformat": 4,
  "nbformat_minor": 0,
  "metadata": {
    "colab": {
      "provenance": [],
      "include_colab_link": true
    },
    "kernelspec": {
      "name": "python3",
      "display_name": "Python 3"
    },
    "language_info": {
      "name": "python"
    }
  },
  "cells": [
    {
      "cell_type": "markdown",
      "metadata": {
        "id": "view-in-github",
        "colab_type": "text"
      },
      "source": [
        "<a href=\"https://colab.research.google.com/github/mosabai/ieee/blob/main/Untitled12.ipynb\" target=\"_parent\"><img src=\"https://colab.research.google.com/assets/colab-badge.svg\" alt=\"Open In Colab\"/></a>"
      ]
    },
    {
      "cell_type": "code",
      "source": [
        "import os\n",
        "\n",
        "# مسار الملف المضغوط (يفترض أنه في نفس مجلد العمل)\n",
        "zip_path = \"/content/DL_Hair_USB_Colab_Kit_v7.zip\"\n",
        "extract_path = \"/content/hairapp\"\n",
        "\n",
        "# تأكد أن الملف موجود\n",
        "if os.path.exists(zip_path):\n",
        "    print(\"✅ تم العثور على الملف:\", zip_path)\n",
        "else:\n",
        "    raise FileNotFoundError(\"❌ لم يتم العثور على الملف DL_Hair_USB_Colab_Kit_v7.zip في /content/\")\n",
        "\n",
        "# فك الضغط\n",
        "!unzip -o \"content/DL_Hair_USB_Colab_Kit_v7.zip\" -d \"/content/hairapp\"\n",
        "\n",
        "# الانتقال إلى المجلد\n",
        "%cd /content/hairapp\n",
        "\n",
        "# تثبيت المتطلبات\n",
        "!pip install -q -r requirements.txt\n",
        "\n",
        "# إنشاء مجلد الخطوط وتحميل الخط العربي (مرة واحدة فقط)\n",
        "!mkdir -p /content/hairapp/fonts\n",
        "!wget -q https://github.com/googlefonts/noto-fonts/raw/main/hinted/ttf/NotoNaskhArabic/NotoNaskhArabic-Regular.ttf -O /content/hairapp/fonts/NotoNaskhArabic-Regular.ttf\n",
        "\n",
        "# تشغيل التطبيق\n",
        "!python app.py\n"
      ],
      "metadata": {
        "id": "F7-kTOsCux4R",
        "colab": {
          "base_uri": "https://localhost:8080/"
        },
        "outputId": "0e6f3458-d26e-4e17-c1a3-44cb2677f900"
      },
      "execution_count": null,
      "outputs": [
        {
          "metadata": {
            "tags": null
          },
          "name": "stdout",
          "output_type": "stream",
          "text": [
            "✅ تم العثور على الملف: /content/DL_Hair_USB_Colab_Kit_v7.zip\n",
            "unzip:  cannot find or open content/DL_Hair_USB_Colab_Kit_v7.zip, content/DL_Hair_USB_Colab_Kit_v7.zip.zip or content/DL_Hair_USB_Colab_Kit_v7.zip.ZIP.\n",
            "/content/hairapp\n",
            "/usr/local/lib/python3.12/dist-packages/gradio/components/image.py:146: UserWarning: The `mirror_webcam` parameter is deprecated. Please use the `webcam_options` parameter with a `gr.WebcamOptions` instance instead.\n",
            "  warnings.warn(\n",
            "* Running on local URL:  http://0.0.0.0:7860\n",
            "* Running on public URL: https://9df3de20387e6e153d.gradio.live\n",
            "\n",
            "This share link expires in 1 week. For free permanent hosting and GPU upgrades, run `gradio deploy` from the terminal in the working directory to deploy to Hugging Face Spaces (https://huggingface.co/spaces)\n"
          ]
        }
      ]
    }
  ]
}